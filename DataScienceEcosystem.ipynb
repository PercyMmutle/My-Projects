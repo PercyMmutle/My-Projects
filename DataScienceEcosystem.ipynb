{
 "cells": [
  {
   "cell_type": "markdown",
   "id": "ae401245-cbe6-43c6-878e-db6786869705",
   "metadata": {},
   "source": [
    "# Data Science Tools and Ecosystem"
   ]
  },
  {
   "cell_type": "markdown",
   "id": "9e82e7f3-c7b3-4425-a09e-50243d6f5567",
   "metadata": {},
   "source": [
    "In this notebook, Data Science Tools and Ecosystems are summarized."
   ]
  },
  {
   "cell_type": "markdown",
   "id": "804f210f-e953-4887-969d-f01ff7eb2bda",
   "metadata": {},
   "source": [
    "***Objectives***\n",
    "- List of Popular language used by Data Scientist.\n",
    "- List of commonly used libraries by Data Scientist.\n",
    "- List Open Source Development environment used in Data Science.\n",
    "- Arithmetic expression in Python."
   ]
  },
  {
   "cell_type": "markdown",
   "id": "e5c8cf54-87b6-4a7a-9c4d-d60d438aa578",
   "metadata": {},
   "source": [
    "Some of the Popular languages that Data Scientist use are:\n",
    "1. Python\n",
    "2. R\n",
    "3. SQL\n",
    "4. Java\n",
    "5. Julia\n",
    "6. C++\n",
    "7. Scala"
   ]
  },
  {
   "cell_type": "markdown",
   "id": "d8bd1e57-d52f-4bbb-9c3a-8b3f4d676cdb",
   "metadata": {},
   "source": [
    "Some of the commonly used libraries used by Data Scientist Include:\n",
    "1. Pandas\n",
    "2. Numpy\n",
    "3. SciPy\n",
    "4. matplotlib\n",
    "5. Jupyter Notebook"
   ]
  },
  {
   "cell_type": "markdown",
   "id": "92847baf-7e8a-4e1d-808f-cee4d65f9518",
   "metadata": {},
   "source": [
    "|Data Science tool|\n",
    "|-----------------|\n",
    "|Anaconda|\n",
    "|Jupyterlab|\n",
    "|Visual Studio Code|"
   ]
  },
  {
   "cell_type": "markdown",
   "id": "122f6381-36a4-4fd3-8435-abc098cb18d3",
   "metadata": {},
   "source": [
    "### Below are a few example of evaluating arithmetic explression in Python"
   ]
  },
  {
   "cell_type": "code",
   "execution_count": 4,
   "id": "869234cc-5443-4e87-882a-26112f081f8a",
   "metadata": {},
   "outputs": [
    {
     "data": {
      "text/plain": [
       "17"
      ]
     },
     "execution_count": 4,
     "metadata": {},
     "output_type": "execute_result"
    }
   ],
   "source": [
    "#This is a simple arithmetic expression to multiply and add integers \n",
    "(3*4)+5"
   ]
  },
  {
   "cell_type": "code",
   "execution_count": 6,
   "id": "34746e57-39a7-4373-98c8-2d4cfd1275a4",
   "metadata": {},
   "outputs": [
    {
     "data": {
      "text/plain": [
       "3.3333333333333335"
      ]
     },
     "execution_count": 6,
     "metadata": {},
     "output_type": "execute_result"
    }
   ],
   "source": [
    "#This will convert 200 minutes to hours by deviding by 60\n",
    "200/60"
   ]
  },
  {
   "cell_type": "markdown",
   "id": "f30ceee2-ad05-41b3-b3fc-634d27a80dee",
   "metadata": {},
   "source": [
    "## Author\n",
    "Percy Mmutle"
   ]
  },
  {
   "cell_type": "code",
   "execution_count": null,
   "id": "eacc8cb4-14bb-48fc-ac3f-f4d3103296a5",
   "metadata": {},
   "outputs": [],
   "source": []
  }
 ],
 "metadata": {
  "kernelspec": {
   "display_name": "anaconda-2022.05-py39",
   "language": "python",
   "name": "conda-env-anaconda-2022.05-py39-py"
  },
  "language_info": {
   "codemirror_mode": {
    "name": "ipython",
    "version": 3
   },
   "file_extension": ".py",
   "mimetype": "text/x-python",
   "name": "python",
   "nbconvert_exporter": "python",
   "pygments_lexer": "ipython3",
   "version": "3.9.12"
  }
 },
 "nbformat": 4,
 "nbformat_minor": 5
}
